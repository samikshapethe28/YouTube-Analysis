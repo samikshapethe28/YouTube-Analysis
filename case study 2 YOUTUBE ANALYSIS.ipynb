{
 "cells": [
  {
   "cell_type": "markdown",
   "id": "6fed1b82",
   "metadata": {},
   "source": [
    "# case stuy 2 Pandas,Seaborn"
   ]
  },
  {
   "cell_type": "code",
   "execution_count": 1,
   "id": "8c7726ed",
   "metadata": {},
   "outputs": [],
   "source": [
    "import pandas as pd\n",
    "import seaborn as sns\n",
    "import matplotlib.pyplot as plt\n"
   ]
  },
  {
   "cell_type": "code",
   "execution_count": 14,
   "id": "d340cba8",
   "metadata": {},
   "outputs": [],
   "source": [
    "df = pd.read_csv('social media influncers.csv.txt', sep='\\t')\n",
    "\n"
   ]
  },
  {
   "cell_type": "code",
   "execution_count": 15,
   "id": "1ab769ea",
   "metadata": {
    "scrolled": true
   },
   "outputs": [
    {
     "data": {
      "text/html": [
       "<div>\n",
       "<style scoped>\n",
       "    .dataframe tbody tr th:only-of-type {\n",
       "        vertical-align: middle;\n",
       "    }\n",
       "\n",
       "    .dataframe tbody tr th {\n",
       "        vertical-align: top;\n",
       "    }\n",
       "\n",
       "    .dataframe thead th {\n",
       "        text-align: right;\n",
       "    }\n",
       "</style>\n",
       "<table border=\"1\" class=\"dataframe\">\n",
       "  <thead>\n",
       "    <tr style=\"text-align: right;\">\n",
       "      <th></th>\n",
       "      <th>youtuber name</th>\n",
       "      <th>channel name</th>\n",
       "      <th>Category</th>\n",
       "      <th>Subscribers</th>\n",
       "      <th>Audience Country</th>\n",
       "      <th>avg views</th>\n",
       "      <th>avg likes</th>\n",
       "      <th>avg comments</th>\n",
       "    </tr>\n",
       "  </thead>\n",
       "  <tbody>\n",
       "    <tr>\n",
       "      <th>0</th>\n",
       "      <td>tseries</td>\n",
       "      <td>T-Series</td>\n",
       "      <td>Music &amp; Dance</td>\n",
       "      <td>212.1M</td>\n",
       "      <td>India</td>\n",
       "      <td>323.7K</td>\n",
       "      <td>9.8K</td>\n",
       "      <td>290</td>\n",
       "    </tr>\n",
       "    <tr>\n",
       "      <th>1</th>\n",
       "      <td>checkgate</td>\n",
       "      <td>Cocomelon - Nursery Rhymes</td>\n",
       "      <td>Education</td>\n",
       "      <td>132.1M</td>\n",
       "      <td>NaN</td>\n",
       "      <td>13.8M</td>\n",
       "      <td>80.9K</td>\n",
       "      <td>NaN</td>\n",
       "    </tr>\n",
       "    <tr>\n",
       "      <th>2</th>\n",
       "      <td>setindia</td>\n",
       "      <td>SET India</td>\n",
       "      <td>NaN</td>\n",
       "      <td>130.4M</td>\n",
       "      <td>India</td>\n",
       "      <td>23.6K</td>\n",
       "      <td>314</td>\n",
       "      <td>21</td>\n",
       "    </tr>\n",
       "    <tr>\n",
       "      <th>3</th>\n",
       "      <td>PewDiePie</td>\n",
       "      <td>PewDiePie</td>\n",
       "      <td>Animation</td>\n",
       "      <td>111.4M</td>\n",
       "      <td>United States</td>\n",
       "      <td>1.4M</td>\n",
       "      <td>80.8K</td>\n",
       "      <td>4.6K</td>\n",
       "    </tr>\n",
       "    <tr>\n",
       "      <th>4</th>\n",
       "      <td>MrBeast6000</td>\n",
       "      <td>MrBeast</td>\n",
       "      <td>Video games</td>\n",
       "      <td>92.5M</td>\n",
       "      <td>United States</td>\n",
       "      <td>30.6M</td>\n",
       "      <td>1.7M</td>\n",
       "      <td>67.7K</td>\n",
       "    </tr>\n",
       "  </tbody>\n",
       "</table>\n",
       "</div>"
      ],
      "text/plain": [
       "  youtuber name                channel name       Category Subscribers  \\\n",
       "0       tseries                    T-Series  Music & Dance      212.1M   \n",
       "1     checkgate  Cocomelon - Nursery Rhymes      Education      132.1M   \n",
       "2      setindia                   SET India            NaN      130.4M   \n",
       "3     PewDiePie                   PewDiePie      Animation      111.4M   \n",
       "4   MrBeast6000                     MrBeast    Video games       92.5M   \n",
       "\n",
       "  Audience Country avg views avg likes avg comments  \n",
       "0            India    323.7K      9.8K          290  \n",
       "1              NaN     13.8M     80.9K          NaN  \n",
       "2            India     23.6K       314           21  \n",
       "3    United States      1.4M     80.8K         4.6K  \n",
       "4    United States     30.6M      1.7M        67.7K  "
      ]
     },
     "execution_count": 15,
     "metadata": {},
     "output_type": "execute_result"
    }
   ],
   "source": [
    "df.head()"
   ]
  },
  {
   "cell_type": "code",
   "execution_count": 16,
   "id": "635ca0dc",
   "metadata": {},
   "outputs": [
    {
     "name": "stdout",
     "output_type": "stream",
     "text": [
      "<class 'pandas.core.frame.DataFrame'>\n",
      "RangeIndex: 1000 entries, 0 to 999\n",
      "Data columns (total 8 columns):\n",
      " #   Column            Non-Null Count  Dtype \n",
      "---  ------            --------------  ----- \n",
      " 0   youtuber name     1000 non-null   object\n",
      " 1   channel name      1000 non-null   object\n",
      " 2   Category          723 non-null    object\n",
      " 3   Subscribers       1000 non-null   object\n",
      " 4   Audience Country  839 non-null    object\n",
      " 5   avg views         1000 non-null   object\n",
      " 6   avg likes         962 non-null    object\n",
      " 7   avg comments      791 non-null    object\n",
      "dtypes: object(8)\n",
      "memory usage: 62.6+ KB\n"
     ]
    }
   ],
   "source": [
    "df.info()"
   ]
  },
  {
   "cell_type": "code",
   "execution_count": 17,
   "id": "18bccfb7",
   "metadata": {},
   "outputs": [
    {
     "data": {
      "text/plain": [
       "youtuber name         0\n",
       "channel name          0\n",
       "Category            277\n",
       "Subscribers           0\n",
       "Audience Country    161\n",
       "avg views             0\n",
       "avg likes            38\n",
       "avg comments        209\n",
       "dtype: int64"
      ]
     },
     "execution_count": 17,
     "metadata": {},
     "output_type": "execute_result"
    }
   ],
   "source": [
    "df.isnull().sum()"
   ]
  },
  {
   "cell_type": "code",
   "execution_count": 18,
   "id": "0550c59b",
   "metadata": {},
   "outputs": [],
   "source": [
    "df = df.dropna()\n"
   ]
  },
  {
   "cell_type": "code",
   "execution_count": 20,
   "id": "47737b60",
   "metadata": {},
   "outputs": [
    {
     "name": "stdout",
     "output_type": "stream",
     "text": [
      "       youtuber name       channel name       Category Subscribers  \\\n",
      "0            tseries           T-Series  Music & Dance      212.1M   \n",
      "3          PewDiePie          PewDiePie      Animation      111.4M   \n",
      "4        MrBeast6000            MrBeast    Video games       92.5M   \n",
      "7       WWEFanNation                WWE    Video games       86.9M   \n",
      "8    zeemusiccompany  Zee Music Company  Music & Dance       82.7M   \n",
      "..               ...                ...            ...         ...   \n",
      "995     FutParÃ³dias       FutParÃ³dias  Music & Dance        9.2M   \n",
      "996          EL GATO            EL GATO           Toys        9.2M   \n",
      "997       CinemaSins         CinemaSins         Movies        9.2M   \n",
      "998       CricketICC                ICC         Sports        9.2M   \n",
      "999          BRKsEDU            BRKsEDU      Animation        9.2M   \n",
      "\n",
      "    Audience Country avg views avg likes avg comments  \n",
      "0              India    323.7K      9.8K          290  \n",
      "3      United States      1.4M     80.8K         4.6K  \n",
      "4      United States     30.6M      1.7M        67.7K  \n",
      "7      United States     76.6K      2.8K          163  \n",
      "8              India    108.7K      4.2K          155  \n",
      "..               ...       ...       ...          ...  \n",
      "995           Brazil      1.4M    110.1K         2.5K  \n",
      "996           Brazil    243.8K     30.7K          636  \n",
      "997    United States      296K     10.2K          874  \n",
      "998            India     15.2K       854           58  \n",
      "999           Brazil    112.3K      9.8K          246  \n",
      "\n",
      "[572 rows x 8 columns]\n"
     ]
    }
   ],
   "source": [
    "print(df)"
   ]
  },
  {
   "cell_type": "code",
   "execution_count": 22,
   "id": "ce234289",
   "metadata": {},
   "outputs": [
    {
     "name": "stdout",
     "output_type": "stream",
     "text": [
      "(572, 8)\n"
     ]
    }
   ],
   "source": [
    "print(df.shape)"
   ]
  },
  {
   "cell_type": "code",
   "execution_count": 23,
   "id": "213b2009",
   "metadata": {},
   "outputs": [
    {
     "name": "stdout",
     "output_type": "stream",
     "text": [
      "youtuber name       0\n",
      "channel name        0\n",
      "Category            0\n",
      "Subscribers         0\n",
      "Audience Country    0\n",
      "avg views           0\n",
      "avg likes           0\n",
      "avg comments        0\n",
      "dtype: int64\n"
     ]
    }
   ],
   "source": [
    "print(df.isnull().sum())"
   ]
  },
  {
   "cell_type": "code",
   "execution_count": 28,
   "id": "7bff992c",
   "metadata": {},
   "outputs": [
    {
     "name": "stdout",
     "output_type": "stream",
     "text": [
      "Empty DataFrame\n",
      "Columns: [youtuber name, channel name, Category, Subscribers, Audience Country, avg views, avg likes, avg comments]\n",
      "Index: []\n"
     ]
    }
   ],
   "source": [
    "# Convert 'Subscribers' column to numeric\n",
    "df['Subscribers'] = pd.to_numeric(df['Subscribers'], errors='coerce')\n",
    "\n",
    "# Filter data for influencers with more than 100,000 subscribers\n",
    "filtered_df = df[df['Subscribers'] > 100000]\n",
    "\n",
    "print(filtered_df)\n"
   ]
  },
  {
   "cell_type": "code",
   "execution_count": 31,
   "id": "443130ff",
   "metadata": {},
   "outputs": [
    {
     "data": {
      "image/png": "[encoded data removed]",
      "text/plain": [
       "<Figure size 640x480 with 1 Axes>"
      ]
     },
     "metadata": {},
     "output_type": "display_data"
    }
   ],
   "source": [
    "# Histogram of average likes\n",
    "sns.histplot(data=df, x='avg likes')\n",
    "plt.show()\n",
    "\n"
   ]
  },
  {
   "cell_type": "code",
   "execution_count": 30,
   "id": "98dae994",
   "metadata": {},
   "outputs": [
    {
     "name": "stdout",
     "output_type": "stream",
     "text": [
      "Index(['youtuber name', 'channel name', 'Category', 'Subscribers',\n",
      "       'Audience Country', 'avg views', 'avg likes', 'avg comments'],\n",
      "      dtype='object')\n"
     ]
    }
   ],
   "source": [
    "print(df.columns)\n"
   ]
  },
  {
   "cell_type": "code",
   "execution_count": 34,
   "id": "10fa7e7a",
   "metadata": {},
   "outputs": [
    {
     "name": "stdout",
     "output_type": "stream",
     "text": [
      "object\n"
     ]
    }
   ],
   "source": [
    "print(df['avg comments'].dtype)\n"
   ]
  },
  {
   "cell_type": "code",
   "execution_count": 36,
   "id": "6f9a4e52",
   "metadata": {},
   "outputs": [],
   "source": [
    "df['avg comments'] = pd.to_numeric(df['avg comments'], errors='coerce')\n",
    "\n"
   ]
  },
  {
   "cell_type": "code",
   "execution_count": 38,
   "id": "96451dbb",
   "metadata": {},
   "outputs": [
    {
     "data": {
      "image/png": "[encoded data removed]",
      "text/plain": [
       "<Figure size 640x480 with 1 Axes>"
      ]
     },
     "metadata": {},
     "output_type": "display_data"
    }
   ],
   "source": [
    "sns.boxplot(data=df, x='Category' , y='avg comments')\n",
    "plt.xticks(rotation=90)\n",
    "plt.show()\n"
   ]
  },
  {
   "cell_type": "code",
   "execution_count": null,
   "id": "27dd4f2f",
   "metadata": {},
   "outputs": [],
   "source": []
  }
 ],
 "metadata": {
  "kernelspec": {
   "display_name": "Python 3 (ipykernel)",
   "language": "python",
   "name": "python3"
  },
  "language_info": {
   "codemirror_mode": {
    "name": "ipython",
    "version": 3
   },
   "file_extension": ".py",
   "mimetype": "text/x-python",
   "name": "python",
   "nbconvert_exporter": "python",
   "pygments_lexer": "ipython3",
   "version": "3.10.9"
  }
 },
 "nbformat": 4,
 "nbformat_minor": 5
}
